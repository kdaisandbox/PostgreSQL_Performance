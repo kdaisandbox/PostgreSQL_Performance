{
 "cells": [
  {
   "cell_type": "markdown",
   "metadata": {},
   "source": [
    "# **PostgreSQL ile performans testi deneyimi**"
   ]
  },
  {
   "cell_type": "markdown",
   "metadata": {},
   "source": [
    "<div style=\"text-align:center;\"><img src=\"img/postgre_exp_erd.png\" /></div>"
   ]
  },
  {
   "cell_type": "markdown",
   "metadata": {},
   "source": [
    "<h2>PostgreSQL bağlantısı</h2>\n",
    "\n",
    "**config.py** dosyası çalıştırılarak PostgreSQL veritabanına bağlantı için gerekli konfigürasyonlar yapılır."
   ]
  },
  {
   "cell_type": "code",
   "execution_count": 2,
   "metadata": {},
   "outputs": [],
   "source": [
    "%run -i \"get_config.py\""
   ]
  },
  {
   "cell_type": "markdown",
   "metadata": {},
   "source": [
    "<h2>Index ile performans testi</h2>\n",
    "\n",
    "<h3>1 - Normal sorgu</h3>\n",
    "\n",
    "Herhangi bir performans iyileştirmesi (index, partition, vs.) uygulanmadan sorgu süreleri test edilir."
   ]
  },
  {
   "cell_type": "code",
   "execution_count": 3,
   "metadata": {},
   "outputs": [
    {
     "name": "stdout",
     "output_type": "stream",
     "text": [
      "Normal çalışma süresi:  0:00:14.669950\n"
     ]
    }
   ],
   "source": [
    "ilk = datetime.now()\n",
    "\n",
    "sorgu_index_normal = \"\"\"\n",
    "                    select * \n",
    "                    from Orders\n",
    "                    where CustomerID in (\n",
    "                        select CustomerID\n",
    "                        from Customers\n",
    "                        where Phone = '5318139006'\n",
    "                    )\n",
    "\"\"\"\n",
    "\n",
    "cursor.execute(sorgu_index_normal)\n",
    "\n",
    "son = datetime.now()\n",
    "\n",
    "sure_index_normal = son - ilk\n",
    "\n",
    "print(\"Normal çalışma süresi: \", sure_index_normal)"
   ]
  },
  {
   "cell_type": "markdown",
   "metadata": {},
   "source": [
    "<h3> 2 - CustomerID ve Phone üzerinde index oluşturulmuş sorgu</h3>\n",
    "\n",
    "**Orders** ve **Customer** tablolarının birer kopyası oluşturulur (Orders_Index, Customers_Index):\n",
    "\n",
    "<br />\n",
    "\n",
    "``` sql\n",
    "drop table if exists Customers_Index;\n",
    "create table Customers_Index as select * from customers;\n",
    "\n",
    "drop table if exists Orders_Index;\n",
    "create table Orders_Index as select * from orders;\n",
    "```\n",
    "\n",
    "<br />\n",
    "\n",
    "Orders_Index tablosu üzerinde **CustomerID** kolonu üzerinde index tanımlanır:\n",
    "\n",
    "<br />\n",
    "\n",
    "``` sql\n",
    "drop index if exists idx_order_customerId;\n",
    "create index idx_order_customerId on Orders_Index (CustomerID);\n",
    "```\n",
    "\n",
    "<br />\n",
    "\n",
    "Customers_Index tablosu üzerinde **CustomerID** ve **Phone** kolonları üzerinde index tanımlanır:\n",
    "\n",
    "<br />\n",
    "\n",
    "``` sql\n",
    "drop index if exists idx_customer_customerId;\n",
    "create index idx_customer_customerId on Customers_Index (CustomerID);\n",
    "\n",
    "drop index if exists idx_customer_phone;\n",
    "create index idx_customer_phone on Customers_Index (Phone);\n",
    "```\n",
    "\n",
    "<br />"
   ]
  },
  {
   "cell_type": "code",
   "execution_count": 4,
   "metadata": {},
   "outputs": [
    {
     "name": "stdout",
     "output_type": "stream",
     "text": [
      "Index ile çalışma süresi:  0:00:00.138004\n"
     ]
    }
   ],
   "source": [
    "ilk = datetime.now()\n",
    "\n",
    "sorgu_index_hizli = \"\"\"\n",
    "                        select * \n",
    "                        from Orders_Index\n",
    "                        where CustomerID in (\n",
    "                            select CustomerID\n",
    "                            from Customers_Index\n",
    "                            where Phone = '5318139006'\n",
    "                        )\n",
    "\"\"\"\n",
    "\n",
    "cursor.execute(sorgu_index_hizli)\n",
    "\n",
    "son = datetime.now()\n",
    "\n",
    "sure_index_hizli = son - ilk\n",
    "\n",
    "print(\"Index ile çalışma süresi: \", sure_index_hizli)"
   ]
  },
  {
   "cell_type": "markdown",
   "metadata": {},
   "source": [
    "<h2>Partition ile performans testi</h2>\n",
    "\n",
    "<h3>1 - Normal Sorgu</h3>\n",
    "\n",
    "Herhangi bir performans iyileştirmesi (index, partition, vs.) uygulanmadan sorgu süreleri test edilir."
   ]
  },
  {
   "cell_type": "code",
   "execution_count": 5,
   "metadata": {},
   "outputs": [
    {
     "name": "stdout",
     "output_type": "stream",
     "text": [
      "Normal çalışma süresi:  0:00:07.826562\n"
     ]
    }
   ],
   "source": [
    "ilk = datetime.now()\n",
    "\n",
    "sorgu_partition_normal = \"\"\"\n",
    "                    select p.Category, count(o.OrderID) as total\n",
    "                    from orders o\n",
    "                    left join products p\n",
    "                        on o.ProductID = p.ProductID\n",
    "                    where o.OrderDate = '2022-06-22'\n",
    "                    group by p.Category\n",
    "\"\"\"\n",
    "\n",
    "cursor.execute(sorgu_partition_normal)\n",
    "\n",
    "son = datetime.now()\n",
    "\n",
    "sure_partition_normal = son - ilk\n",
    "\n",
    "print(\"Normal çalışma süresi: \", sure_partition_normal)"
   ]
  },
  {
   "cell_type": "markdown",
   "metadata": {},
   "source": [
    "<h3>2 - OrderDate üzerinde aya göre partition oluşturulmuş sorgu</h3>\n",
    "\n",
    "**Orders** tablosunun bir kopyası oluşturulur (Orders_Partition):\n",
    "\n",
    "<br />\n",
    "\n",
    "``` sql\n",
    "create table Orders_Partition\n",
    "(\n",
    "  OrderID numeric(10),\n",
    "  ProductID numeric(10),\n",
    "  CustomerID numeric(10),\n",
    "  Quantity int,\n",
    "  OrderDate date\n",
    ") partition by range (OrderDate)\n",
    ";\n",
    "```\n",
    "<br />\n",
    "\n",
    "Bu tablo üzerinde **OrderDate** kolonu üzerinde aya göre, 12 tane partition tanımlanır:\n",
    "\n",
    "<br />\n",
    "\n",
    "``` sql\n",
    "create table order_part_2022_1 partition OF orders_partition for values from ('2022-01-01') to ('2022-02-01');\n",
    "create table order_part_2022_2 partition OF orders_partition for values from ('2022-02-01') to ('2022-03-01');\n",
    "create table order_part_2022_3 partition OF orders_partition for values from ('2022-03-01') to ('2022-04-01');\n",
    "create table order_part_2022_4 partition OF orders_partition for values from ('2022-04-01') to ('2022-05-01');\n",
    "create table order_part_2022_5 partition OF orders_partition for values from ('2022-05-01') to ('2022-06-01');\n",
    "create table order_part_2022_6 partition OF orders_partition for values from ('2022-06-01') to ('2022-07-01');\n",
    "create table order_part_2022_7 partition OF orders_partition for values from ('2022-07-01') to ('2022-08-01');\n",
    "create table order_part_2022_8 partition OF orders_partition for values from ('2022-08-01') to ('2022-09-01');\n",
    "create table order_part_2022_9 partition OF orders_partition for values from ('2022-09-01') to ('2022-10-01');\n",
    "create table order_part_2022_10 partition OF orders_partition for values from ('2022-10-01') to ('2022-11-01');\n",
    "create table order_part_2022_11 partition OF orders_partition for values from ('2022-11-01') to ('2022-12-01');\n",
    "create table order_part_2022_12 partition OF orders_partition for values from ('2022-12-01') to ('2023-01-01');\n",
    "```\n",
    "\n",
    "<br />\n",
    "\n",
    "Daha sonra ilgili aylar her partition'a insert edilir:\n",
    "\n",
    "<br />\n",
    "\n",
    "``` sql\n",
    "insert into Orders_Partition select * from orders where OrderDate >= '2022-01-01' and OrderDate < '2022-02-01';\n",
    "insert into Orders_Partition select * from orders where OrderDate >= '2022-02-01' and OrderDate < '2022-03-01';\n",
    "insert into Orders_Partition select * from orders where OrderDate >= '2022-03-01' and OrderDate < '2022-04-01';\n",
    "insert into Orders_Partition select * from orders where OrderDate >= '2022-04-01' and OrderDate < '2022-05-01';\n",
    "insert into Orders_Partition select * from orders where OrderDate >= '2022-05-01' and OrderDate < '2022-06-01';\n",
    "insert into Orders_Partition select * from orders where OrderDate >= '2022-06-01' and OrderDate < '2022-07-01';\n",
    "insert into Orders_Partition select * from orders where OrderDate >= '2022-07-01' and OrderDate < '2022-08-01';\n",
    "insert into Orders_Partition select * from orders where OrderDate >= '2022-08-01' and OrderDate < '2022-09-01';\n",
    "insert into Orders_Partition select * from orders where OrderDate >= '2022-09-01' and OrderDate < '2022-10-01';\n",
    "insert into Orders_Partition select * from orders where OrderDate >= '2022-010-01' and OrderDate < '2022-11-01';\n",
    "insert into Orders_Partition select * from orders where OrderDate >= '2022-011-01' and OrderDate < '2022-12-01';\n",
    "insert into Orders_Partition select * from orders where OrderDate >= '2022-012-01' and OrderDate < '2023-01-01';\n",
    "```\n",
    "\n",
    "<br />"
   ]
  },
  {
   "cell_type": "code",
   "execution_count": 6,
   "metadata": {},
   "outputs": [
    {
     "name": "stdout",
     "output_type": "stream",
     "text": [
      "Partition ile çalışma süresi:  0:00:00.828229\n"
     ]
    }
   ],
   "source": [
    "ilk = datetime.now()\n",
    "\n",
    "sorgu_partition_hizli = \"\"\"\n",
    "                    select p.Category, count(o.OrderID) as total\n",
    "                    from Orders_Partition o\n",
    "                    left join products p\n",
    "                        on o.ProductID = p.ProductID\n",
    "                    where o.OrderDate = '2022-06-22'\n",
    "                    group by p.Category\n",
    "\"\"\"\n",
    "\n",
    "cursor.execute(sorgu_partition_hizli)\n",
    "\n",
    "son = datetime.now()\n",
    "\n",
    "sure_partition_hizli = son - ilk\n",
    "\n",
    "print(\"Partition ile çalışma süresi: \", sure_partition_hizli)"
   ]
  },
  {
   "cell_type": "markdown",
   "metadata": {},
   "source": [
    "<h3>Karşılaştırma</h3>"
   ]
  },
  {
   "cell_type": "code",
   "execution_count": 7,
   "metadata": {},
   "outputs": [
    {
     "name": "stdout",
     "output_type": "stream",
     "text": [
      " Index Test \n",
      " --------------------\n",
      "Normal\t\t 0:00:14.669950\n",
      "Index\t\t 0:00:00.138004\n",
      "Hız artışı (%)\t 99.05927423065518\n",
      "\n",
      "\n",
      " Partition Test \n",
      " --------------------\n",
      "Normal\t\t 0:00:07.826562\n",
      "Partition\t 0:00:00.828229\n",
      "Hız artışı (%)\t 89.41771623351352\n"
     ]
    }
   ],
   "source": [
    "print(\" Index Test\", \"\\n\", \"-\"*20)\n",
    "print(\"Normal\\t\\t\", sure_index_normal)\n",
    "print(\"Index\\t\\t\", sure_index_hizli)\n",
    "print(\"Hız artışı (%)\\t\", ((sure_index_normal - sure_index_hizli) / sure_index_normal) * 100)\n",
    "print(\"\\n\")\n",
    "print(\" Partition Test\", \"\\n\", \"-\"*20)\n",
    "print(\"Normal\\t\\t\", sure_partition_normal)\n",
    "print(\"Partition\\t\", sure_partition_hizli)\n",
    "print(\"Hız artışı (%)\\t\", ((sure_partition_normal - sure_partition_hizli) / sure_partition_normal) * 100)"
   ]
  }
 ],
 "metadata": {
  "kernelspec": {
   "display_name": "Python 3.10.3 64-bit",
   "language": "python",
   "name": "python3"
  },
  "language_info": {
   "codemirror_mode": {
    "name": "ipython",
    "version": 3
   },
   "file_extension": ".py",
   "mimetype": "text/x-python",
   "name": "python",
   "nbconvert_exporter": "python",
   "pygments_lexer": "ipython3",
   "version": "3.10.5"
  },
  "orig_nbformat": 4,
  "vscode": {
   "interpreter": {
    "hash": "8b5feb1928389f08fc09f2a2709e9676c403a62220af80e6f329575833317ae6"
   }
  }
 },
 "nbformat": 4,
 "nbformat_minor": 2
}
