{
 "cells": [
  {
   "cell_type": "markdown",
   "metadata": {},
   "source": [
    "# **PostgreSQL ile performans testi deneyimi**"
   ]
  },
  {
   "cell_type": "markdown",
   "metadata": {},
   "source": [
    "<div style=\"text-align:center;\"><img src=\"img/postgre_exp_erd.png\" /></div>"
   ]
  },
  {
   "cell_type": "markdown",
   "metadata": {},
   "source": [
    "<h2>PostgreSQL bağlantısı</h2>\n",
    "\n",
    "<b>psycopg2</b> kütüphanesiyle PostgreSQL veritabanına bağlantı kurulur. DB parametrelerini config dosyasından almak için <b>pyyaml</b> kütüphanesi kullanılır.\n",
    "\n",
    "Öncesinde DB'ye manuel bağlanıp (pgAdmin vb.) bir veritabanı oluşturulması gerekir (bu örnekte <b>perf_test_db</b>)."
   ]
  },
  {
   "cell_type": "code",
   "execution_count": 1,
   "metadata": {},
   "outputs": [],
   "source": [
    "# Imports\n",
    "\n",
    "import psycopg2\n",
    "from psycopg2 import Error\n",
    "import yaml\n",
    "from datetime import datetime"
   ]
  },
  {
   "cell_type": "code",
   "execution_count": 2,
   "metadata": {},
   "outputs": [],
   "source": [
    "# Get parameters from config file\n",
    "\n",
    "with open(\"config.yml\", \"r\") as ymlfile:\n",
    "    cfg = yaml.safe_load(ymlfile)\n",
    "\n",
    "p_dbname = cfg[\"postgre\"][\"dbname\"]\n",
    "p_port = cfg[\"postgre\"][\"port\"]\n",
    "p_user= cfg[\"postgre\"][\"user\"]\n",
    "p_host = cfg[\"postgre\"][\"host\"]\n",
    "p_password = cfg[\"postgre\"][\"password\"]"
   ]
  },
  {
   "cell_type": "code",
   "execution_count": 3,
   "metadata": {},
   "outputs": [],
   "source": [
    "try:\n",
    "\n",
    "    # Connect to an existing database\n",
    "    connection = psycopg2.connect(\n",
    "                                    dbname = p_dbname,\n",
    "                                    port = p_port,\n",
    "                                    user= p_user,\n",
    "                                    host = p_host,\n",
    "                                    password = p_password\n",
    "                                )\n",
    "\n",
    "    # Create a cursor to perform database operations\n",
    "    cursor = connection.cursor()\n",
    "\n",
    "except (Exception, Error) as error:\n",
    "    print(\"Error while connecting to PostgreSQL\", error)"
   ]
  },
  {
   "cell_type": "markdown",
   "metadata": {},
   "source": [
    "<h2>Index ile performans testi</h2>\n",
    "\n",
    "<h3>1 - Normal sorgu</h3>\n",
    "\n",
    "Herhangi bir performans iyileştirmesi (index, partition, vs.) uygulanmadan sorgu süreleri test edilir."
   ]
  },
  {
   "cell_type": "code",
   "execution_count": 4,
   "metadata": {},
   "outputs": [
    {
     "name": "stdout",
     "output_type": "stream",
     "text": [
      "Normal çalışma süresi:  0:04:12.545279\n"
     ]
    }
   ],
   "source": [
    "ilk = datetime.now()\n",
    "\n",
    "sorgu_index_normal = \"\"\"\n",
    "                    select c.FirstName, c.UserName, p.ProductID, count(o.OrderID) as total\n",
    "                    from orders o\n",
    "                    left join products p\n",
    "                        on o.ProductID = p.ProductID\n",
    "                    left join Customers c\n",
    "                        on o.CustomerID = c.CustomerID\n",
    "                    where o.OrderDate > '2022-06-01'\n",
    "                        and c.UserName like '%gmail%'\n",
    "                    group by c.FirstName, c.UserName, p.ProductID\n",
    "\"\"\"\n",
    "\n",
    "cursor.execute(sorgu_index_normal)\n",
    "\n",
    "son = datetime.now()\n",
    "\n",
    "sure_index_normal = son - ilk\n",
    "\n",
    "print(\"Normal çalışma süresi: \", sure_index_normal)"
   ]
  },
  {
   "cell_type": "markdown",
   "metadata": {},
   "source": [
    "<h3> 2 - OrderDate üzerinde index oluşturulmuş sorgu</h3>\n",
    "\n",
    "**Orders** tablosunun bir kopyası oluşturulur (Orders_Index):\n",
    "\n",
    "<br />\n",
    "\n",
    "``` sql\n",
    "drop table if exists Customers_Index;\n",
    "create table Customers_Index as select * from customers;\n",
    "\n",
    "drop table if exists Orders_Index;\n",
    "create table Orders_Index as select * from orders;\n",
    "```\n",
    "\n",
    "<br />\n",
    "\n",
    "Orders_Index tablosu üzerinde **OrderDate** kolonu üzerinde index tanımlanır:\n",
    "\n",
    "<br />\n",
    "\n",
    "``` sql\n",
    "create index idx_order_orderdate on Orders_Index (OrderDate);\n",
    "drop index if exists idx_order_orderdate;\n",
    "```\n",
    "\n",
    "<br />\n",
    "\n",
    "Customers_Index tablosu üzerinde **UserName** kolonu üzerinde index tanımlanır:\n",
    "\n",
    "<br />\n",
    "\n",
    "``` sql\n",
    "create index idx_customer_username on Customers_Index (UserName);\n",
    "drop index if exists idx_customer_username;\n",
    "```\n",
    "\n",
    "<br />"
   ]
  },
  {
   "cell_type": "code",
   "execution_count": 5,
   "metadata": {},
   "outputs": [
    {
     "name": "stdout",
     "output_type": "stream",
     "text": [
      "Index ile çalışma süresi:  0:00:19.563190\n"
     ]
    }
   ],
   "source": [
    "ilk = datetime.now()\n",
    "\n",
    "sorgu_index_hizli = \"\"\"\n",
    "                        select c.FirstName, c.UserName, p.ProductID, count(o.OrderID) as total\n",
    "                        from Orders_Index o\n",
    "                        left join products p\n",
    "                            on o.ProductID = p.ProductID\n",
    "                        left join Customers_Index c\n",
    "                            on o.CustomerID = c.CustomerID\n",
    "                        where o.OrderDate = '2022-06-22'\n",
    "                            and c.UserName like '%gmail%'\n",
    "                        group by c.FirstName, c.UserName, p.ProductID\n",
    "\"\"\"\n",
    "\n",
    "cursor.execute(sorgu_index_hizli)\n",
    "\n",
    "son = datetime.now()\n",
    "\n",
    "sure_index_hizli = son - ilk\n",
    "\n",
    "print(\"Index ile çalışma süresi: \", sure_index_hizli)"
   ]
  },
  {
   "cell_type": "markdown",
   "metadata": {},
   "source": [
    "<h2>Partition ile performans testi</h2>\n",
    "\n",
    "<h3>1 - Normal Sorgu</h3>\n",
    "\n",
    "Herhangi bir performans iyileştirmesi (index, partition, vs.) uygulanmadan sorgu süreleri test edilir."
   ]
  },
  {
   "cell_type": "code",
   "execution_count": 6,
   "metadata": {},
   "outputs": [
    {
     "name": "stdout",
     "output_type": "stream",
     "text": [
      "Normal çalışma süresi:  0:00:11.593361\n"
     ]
    }
   ],
   "source": [
    "ilk = datetime.now()\n",
    "\n",
    "sorgu_partition_normal = \"\"\"\n",
    "                    select p.Category, count(o.OrderID) as total\n",
    "                    from orders o\n",
    "                    left join products p\n",
    "                        on o.ProductID = p.ProductID\n",
    "                    where o.OrderDate = '2022-06-22'\n",
    "                    group by p.Category\n",
    "\"\"\"\n",
    "\n",
    "cursor.execute(sorgu_partition_normal)\n",
    "\n",
    "son = datetime.now()\n",
    "\n",
    "sure_partition_normal = son - ilk\n",
    "\n",
    "print(\"Normal çalışma süresi: \", sure_partition_normal)"
   ]
  },
  {
   "cell_type": "markdown",
   "metadata": {},
   "source": [
    "<h3>2 - OrderDate üzerinde aya göre partition oluşturulmuş sorgu</h3>\n",
    "\n",
    "**Orders** tablosunun bir kopyası oluşturulur (Orders_Partition):\n",
    "\n",
    "<br />\n",
    "\n",
    "``` sql\n",
    "create table Orders_Partition\n",
    "(\n",
    "  OrderID numeric(10),\n",
    "  ProductID numeric(10),\n",
    "  CustomerID numeric(10),\n",
    "  Quantity int,\n",
    "  OrderDate date\n",
    ") partition by range (OrderDate)\n",
    ";\n",
    "```\n",
    "<br />\n",
    "\n",
    "Bu tablo üzerinde **OrderDate** kolonu üzerinde aya göre, 12 tane partition tanımlanır:\n",
    "\n",
    "<br />\n",
    "\n",
    "``` sql\n",
    "create table order_part_2022_1 partition OF orders_partition for values from ('2022-01-01') to ('2022-02-01');\n",
    "create table order_part_2022_2 partition OF orders_partition for values from ('2022-02-01') to ('2022-03-01');\n",
    "create table order_part_2022_3 partition OF orders_partition for values from ('2022-03-01') to ('2022-04-01');\n",
    "create table order_part_2022_4 partition OF orders_partition for values from ('2022-04-01') to ('2022-05-01');\n",
    "create table order_part_2022_5 partition OF orders_partition for values from ('2022-05-01') to ('2022-06-01');\n",
    "create table order_part_2022_6 partition OF orders_partition for values from ('2022-06-01') to ('2022-07-01');\n",
    "create table order_part_2022_7 partition OF orders_partition for values from ('2022-07-01') to ('2022-08-01');\n",
    "create table order_part_2022_8 partition OF orders_partition for values from ('2022-08-01') to ('2022-09-01');\n",
    "create table order_part_2022_9 partition OF orders_partition for values from ('2022-09-01') to ('2022-10-01');\n",
    "create table order_part_2022_10 partition OF orders_partition for values from ('2022-10-01') to ('2022-11-01');\n",
    "create table order_part_2022_11 partition OF orders_partition for values from ('2022-11-01') to ('2022-12-01');\n",
    "create table order_part_2022_12 partition OF orders_partition for values from ('2022-12-01') to ('2023-01-01');\n",
    "```\n",
    "\n",
    "<br />\n",
    "\n",
    "Daha sonra ilgili aylar her partition'a insert edilir:\n",
    "\n",
    "<br />\n",
    "\n",
    "``` sql\n",
    "insert into Orders_Partition select * from orders where OrderDate >= '2022-01-01' and OrderDate < '2022-02-01';\n",
    "insert into Orders_Partition select * from orders where OrderDate >= '2022-02-01' and OrderDate < '2022-03-01';\n",
    "insert into Orders_Partition select * from orders where OrderDate >= '2022-03-01' and OrderDate < '2022-04-01';\n",
    "insert into Orders_Partition select * from orders where OrderDate >= '2022-04-01' and OrderDate < '2022-05-01';\n",
    "insert into Orders_Partition select * from orders where OrderDate >= '2022-05-01' and OrderDate < '2022-06-01';\n",
    "insert into Orders_Partition select * from orders where OrderDate >= '2022-06-01' and OrderDate < '2022-07-01';\n",
    "insert into Orders_Partition select * from orders where OrderDate >= '2022-07-01' and OrderDate < '2022-08-01';\n",
    "insert into Orders_Partition select * from orders where OrderDate >= '2022-08-01' and OrderDate < '2022-09-01';\n",
    "insert into Orders_Partition select * from orders where OrderDate >= '2022-09-01' and OrderDate < '2022-10-01';\n",
    "insert into Orders_Partition select * from orders where OrderDate >= '2022-010-01' and OrderDate < '2022-11-01';\n",
    "insert into Orders_Partition select * from orders where OrderDate >= '2022-011-01' and OrderDate < '2022-12-01';\n",
    "insert into Orders_Partition select * from orders where OrderDate >= '2022-012-01' and OrderDate < '2023-01-01';\n",
    "```\n",
    "\n",
    "<br />"
   ]
  },
  {
   "cell_type": "code",
   "execution_count": 7,
   "metadata": {},
   "outputs": [
    {
     "name": "stdout",
     "output_type": "stream",
     "text": [
      "Partition ile çalışma süresi:  0:00:00.270212\n"
     ]
    }
   ],
   "source": [
    "ilk = datetime.now()\n",
    "\n",
    "sorgu_partition_hizli = \"\"\"\n",
    "                    select p.Category, count(o.OrderID) as total\n",
    "                    from Orders_Partition o\n",
    "                    left join products p\n",
    "                        on o.ProductID = p.ProductID\n",
    "                    where o.OrderDate = '2022-06-22'\n",
    "                    group by p.Category\n",
    "\"\"\"\n",
    "\n",
    "cursor.execute(sorgu_partition_hizli)\n",
    "\n",
    "son = datetime.now()\n",
    "\n",
    "sure_partition_hizli = son - ilk\n",
    "\n",
    "print(\"Partition ile çalışma süresi: \", sure_partition_hizli)"
   ]
  },
  {
   "cell_type": "markdown",
   "metadata": {},
   "source": [
    "<h3>Karşılaştırma</h3>"
   ]
  },
  {
   "cell_type": "code",
   "execution_count": 8,
   "metadata": {},
   "outputs": [
    {
     "name": "stdout",
     "output_type": "stream",
     "text": [
      " Index Test \n",
      " --------------------\n",
      "Normal\t\t 0:04:12.545279\n",
      "Index\t\t 0:00:19.563190\n",
      "Hız artışı (%)\t 92.25359108771937\n",
      "\n",
      "\n",
      " Partition Test \n",
      " --------------------\n",
      "Normal\t\t 0:00:11.593361\n",
      "Partition\t 0:00:00.270212\n",
      "Hız artışı (%)\t 97.66925225566598\n"
     ]
    }
   ],
   "source": [
    "print(\" Index Test\", \"\\n\", \"-\"*20)\n",
    "print(\"Normal\\t\\t\", sure_index_normal)\n",
    "print(\"Index\\t\\t\", sure_index_hizli)\n",
    "print(\"Hız artışı (%)\\t\", ((sure_index_normal - sure_index_hizli) / sure_index_normal) * 100)\n",
    "print(\"\\n\")\n",
    "print(\" Partition Test\", \"\\n\", \"-\"*20)\n",
    "print(\"Normal\\t\\t\", sure_partition_normal)\n",
    "print(\"Partition\\t\", sure_partition_hizli)\n",
    "print(\"Hız artışı (%)\\t\", ((sure_partition_normal - sure_partition_hizli) / sure_partition_normal) * 100)"
   ]
  }
 ],
 "metadata": {
  "kernelspec": {
   "display_name": "Python 3.10.3 64-bit",
   "language": "python",
   "name": "python3"
  },
  "language_info": {
   "codemirror_mode": {
    "name": "ipython",
    "version": 3
   },
   "file_extension": ".py",
   "mimetype": "text/x-python",
   "name": "python",
   "nbconvert_exporter": "python",
   "pygments_lexer": "ipython3",
   "version": "3.10.5"
  },
  "orig_nbformat": 4,
  "vscode": {
   "interpreter": {
    "hash": "8b5feb1928389f08fc09f2a2709e9676c403a62220af80e6f329575833317ae6"
   }
  }
 },
 "nbformat": 4,
 "nbformat_minor": 2
}
